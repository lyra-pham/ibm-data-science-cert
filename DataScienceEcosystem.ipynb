{
 "cells": [
  {
   "cell_type": "markdown",
   "id": "ca971dc3",
   "metadata": {},
   "source": [
    "# Data Science Tools and Ecosystem"
   ]
  },
  {
   "cell_type": "markdown",
   "id": "0d7b887d",
   "metadata": {},
   "source": [
    "In this notebook, Data Science Tools and Ecosystem are summarized."
   ]
  },
  {
   "cell_type": "markdown",
   "id": "bbf5bf9f",
   "metadata": {},
   "source": [
    "### Some of the popular languages that Data Scientists use are:\n",
    "1. Python\n",
    "2. R\n",
    "3. SQL\n",
    "4. Julia\n",
    "5. Java\n",
    "6. Visual Basic\n",
    "7. Go\n",
    "8. Ruby\n",
    "9. PHP\n",
    "10. C++\n",
    "11. JavaScript\n",
    "12. Julia"
   ]
  },
  {
   "cell_type": "markdown",
   "id": "934f6f78",
   "metadata": {},
   "source": [
    "### Some of the commonly used libraries used by Data Scientists include:\n",
    "1. Pandas\n",
    "2. NumPy\n",
    "3. Scikit-learn\n",
    "4. TensorFlow\n",
    "5. Matplotlib\n",
    "6. Keras\n",
    "7. Seaborn\n",
    "8. PyTorch\n",
    "9. Apache Spark\n",
    "10. Vegas\n",
    "11. Big DL\n",
    "12. Ggplot2"
   ]
  },
  {
   "cell_type": "markdown",
   "id": "e89d8c70",
   "metadata": {},
   "source": [
    "### Data Science Tools\n",
    "| Data Science Tools |\n",
    "|--------------------|\n",
    "| Jupyter Notebook  |\n",
    "| RStudio          |\n",
    "| Apache Zeppelin  |\n",
    "| Anaconda  |"
   ]
  },
  {
   "cell_type": "markdown",
   "id": "302f02fd",
   "metadata": {},
   "source": [
    "### Below are a few examples of evaluating arithmetic expressions in Python."
   ]
  },
  {
   "cell_type": "code",
   "execution_count": 1,
   "id": "c71fd70d",
   "metadata": {},
   "outputs": [
    {
     "data": {
      "text/plain": [
       "17"
      ]
     },
     "execution_count": 1,
     "metadata": {},
     "output_type": "execute_result"
    }
   ],
   "source": [
    "# This a simple arithmetic expression to multiply then add integers\n",
    "(3 * 4) + 5"
   ]
  },
  {
   "cell_type": "code",
   "execution_count": 2,
   "id": "67c8f7c3",
   "metadata": {},
   "outputs": [
    {
     "data": {
      "text/plain": [
       "3.3333333333333335"
      ]
     },
     "execution_count": 2,
     "metadata": {},
     "output_type": "execute_result"
    }
   ],
   "source": [
    "# This will convert 200 minutes to hours by dividing by 60\n",
    "200 / 60"
   ]
  },
  {
   "cell_type": "markdown",
   "id": "34da5ca3",
   "metadata": {},
   "source": [
    "**Objectives:**\n",
    "- List popular languages for Data Science\n",
    "- Identify commonly used Data Science libraries\n",
    "- Explore open-source Data Science tools\n",
    "- Perform basic arithmetic operations in Python\n",
    "- Convert time from minutes to hours\n",
    "- Add comments and titles"
   ]
  },
  {
   "cell_type": "markdown",
   "id": "0bb9453f",
   "metadata": {},
   "source": [
    "## Author\n",
    "Phuong Loan Pham"
   ]
  }
 ],
 "metadata": {
  "kernelspec": {
   "display_name": "Python 3 (ipykernel)",
   "language": "python",
   "name": "python3"
  },
  "language_info": {
   "codemirror_mode": {
    "name": "ipython",
    "version": 3
   },
   "file_extension": ".py",
   "mimetype": "text/x-python",
   "name": "python",
   "nbconvert_exporter": "python",
   "pygments_lexer": "ipython3",
   "version": "3.12.1"
  }
 },
 "nbformat": 4,
 "nbformat_minor": 5
}
